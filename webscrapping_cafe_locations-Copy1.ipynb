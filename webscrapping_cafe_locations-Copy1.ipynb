{
 "cells": [
  {
   "cell_type": "code",
   "execution_count": 1,
   "metadata": {},
   "outputs": [],
   "source": [
    "import time\n",
    "import pandas as pd\n",
    "import numpy as np\n",
    "import requests\n",
    "from bs4 import BeautifulSoup\n",
    "import random"
   ]
  },
  {
   "cell_type": "code",
   "execution_count": 2,
   "metadata": {
    "scrolled": false
   },
   "outputs": [],
   "source": [
    "page = requests.get(\"https://www.yelp.com/search?find_desc=cafes&find_loc=amsterdam&start=60\")\n",
    "x = np.random.uniform(1, 3)\n",
    "time.sleep(x)\n",
    "#page\n",
    "#page.status_code\n",
    "page.content\n",
    "soup = BeautifulSoup(page.content, \"html.parser\")\n",
    "#soup"
   ]
  },
  {
   "cell_type": "code",
   "execution_count": 3,
   "metadata": {},
   "outputs": [
    {
     "data": {
      "text/plain": [
       "['020-3627396',\n",
       " 'Bosboom Toussaintstraat 60',\n",
       " 'Helmersbuurt',\n",
       " 'Jan Pieter Heijestraat 85-87',\n",
       " 'Oud West',\n",
       " '020-7892023',\n",
       " 'Lindengracht 249',\n",
       " 'Jordaan',\n",
       " '020-6202442',\n",
       " 'Rokin 81',\n",
       " 'De Wallen',\n",
       " '0611-850420',\n",
       " 'Tweede Laurierdwarsstraat 50',\n",
       " 'Jordaan',\n",
       " '020-7373180',\n",
       " 'Scheldestraat 45 BG',\n",
       " 'Rivierenbuurt',\n",
       " '020-6235787',\n",
       " 'Rembrandtplein 4',\n",
       " 'Centrum',\n",
       " '0651-303333',\n",
       " 'Middenweg 59',\n",
       " 'Watergraafsmeer',\n",
       " '020-7893905',\n",
       " 'Nieuwendijk 6',\n",
       " 'Centrum',\n",
       " '020-4286854',\n",
       " 'Herengracht 300',\n",
       " 'Negen Straatjes']"
      ]
     },
     "execution_count": 3,
     "metadata": {},
     "output_type": "execute_result"
    }
   ],
   "source": [
    "Locations = []\n",
    "Locs = soup.find_all('p', class_ = \"css-8jxw1i\")\n",
    "Locs\n",
    "for i in range(len(Locs)):\n",
    "    Locations.append(Locs[i].text)\n",
    "Locations"
   ]
  },
  {
   "cell_type": "code",
   "execution_count": null,
   "metadata": {},
   "outputs": [],
   "source": [
    "<class=\" css-8jxw1i\">Centrum</p></div></div>"
   ]
  },
  {
   "cell_type": "code",
   "execution_count": null,
   "metadata": {},
   "outputs": [],
   "source": [
    "Locations = []\n",
    "for i in range(10):\n",
    "    Locations.append(Locs[i].text)\n",
    "Locations\n",
    "<p class=\" css-8jxw1i\">Centrum</p>\n",
    "<p class=\" css-8jxw1i\">De Pijp</p>"
   ]
  },
  {
   "cell_type": "code",
   "execution_count": 17,
   "metadata": {},
   "outputs": [
    {
     "data": {
      "text/plain": [
       "['11.\\xa0Café Del Mar6€Coffee & Tea020-3639322Stromarkt 15Centrum“So many great things to say about this quaint coffee shop! The latte, amazing. The decor, all of my”\\xa0more',\n",
       " '12.\\xa0Brug 3419€€Coffee & Tea, Breakfast & Brunch020-2236793Utrechtsestraat 19Centrum“I expected this to be a typical coffee shop where you order at the counter and then sit down”\\xa0more',\n",
       " '13.\\xa0Coffee & Coconuts195€€Coffee & Tea020-3541104Ceintuurbaan 282-284De Pijp“ about their coffee beans and showed how to make flat whites etc . I chose the Vietnamese hotdog”\\xa0more',\n",
       " '14.\\xa0Simon Lévelt3€€Coffee & Tea020-6240823Prinsengracht 180Jordaan“Shopping for coffee when you have a brand-new French Press and no idea how to use it can be”\\xa0more',\n",
       " '15.\\xa048505Coffee & Tea, Modern EuropeanCamperstraat 48-50Oosterparkbuurt“Came here to get some coffee with a couple friends and ended up getting a cinnamon roll and bread”\\xa0more',\n",
       " '16.\\xa0Corner Bakery38€€Coffee & Tea, Bakeries, SandwichesJohannes Vermeerstraat 40Museumkwartier“Corner bakery is an adorable cafe to enjoy a nice weekend brunch. As it is a smaller venue, it can”\\xa0more',\n",
       " '17.\\xa0Prins Heerlijk61€€Cafes020-6249375Prins Hendrikkade 57Centrum“Cute little breakfast cafe, friendly waitstaff, very helpful in making decisions on local Dutch”\\xa0more',\n",
       " '18.\\xa0Café Brecht61€€Bars, Cafes020-6272211Weteringschans 157Centrum“This is the kind of bar I feel most at home in. It reminds me of Delux Cafe in Boston. It is shabby”\\xa0more',\n",
       " '19.\\xa0Calf & Bloom30€€Pubs, Cafes020-4228890Singel 461Centrum“ - not bad at all. I ordered a coffee and the curry shrimp noodles. The latter was amazing! Great”\\xa0more',\n",
       " '20.\\xa0Sugar & Spice Bakery38€€Bakeries, Coffee & Tea, Breakfast & Brunch0686-045183Zeedijk 75Centrum“So our first day in Amsterdam, I told my family I wanted to find a nice bakery and a coffee. We”\\xa0more']"
      ]
     },
     "execution_count": 17,
     "metadata": {},
     "output_type": "execute_result"
    }
   ],
   "source": []
  }
 ],
 "metadata": {
  "kernelspec": {
   "display_name": "Python 3",
   "language": "python",
   "name": "python3"
  },
  "language_info": {
   "codemirror_mode": {
    "name": "ipython",
    "version": 3
   },
   "file_extension": ".py",
   "mimetype": "text/x-python",
   "name": "python",
   "nbconvert_exporter": "python",
   "pygments_lexer": "ipython3",
   "version": "3.7.6"
  }
 },
 "nbformat": 4,
 "nbformat_minor": 4
}
