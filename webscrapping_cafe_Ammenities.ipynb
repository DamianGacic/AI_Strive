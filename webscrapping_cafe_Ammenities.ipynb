{
 "cells": [
  {
   "cell_type": "code",
   "execution_count": 2,
   "metadata": {},
   "outputs": [],
   "source": [
    "import time\n",
    "import pandas as pd\n",
    "import numpy as np\n",
    "import requests\n",
    "from bs4 import BeautifulSoup\n",
    "import random"
   ]
  },
  {
   "cell_type": "code",
   "execution_count": 3,
   "metadata": {
    "scrolled": false
   },
   "outputs": [],
   "source": [
    "page = requests.get(\"https://www.yelp.com/search?find_desc=cafes&find_loc=amsterdam&start=190\")\n",
    "x = np.random.uniform(1, 3)\n",
    "time.sleep(x)\n",
    "#page\n",
    "#page.status_code\n",
    "page.content\n",
    "soup = BeautifulSoup(page.content, \"html.parser\")\n",
    "#soup"
   ]
  },
  {
   "cell_type": "code",
   "execution_count": 6,
   "metadata": {},
   "outputs": [
    {
     "data": {
      "text/plain": [
       "[]"
      ]
     },
     "execution_count": 6,
     "metadata": {},
     "output_type": "execute_result"
    }
   ],
   "source": [
    "R = soup.find_all('div',class_= 'arrange__373c0__UHqhV gutter-2__373c0__3Zpeq layout-wrap__373c0__34d4b layout-2-units__373c0__3CiAk border-color--default__373c0__2oFDT')\n",
    "R"
   ]
  },
  {
   "cell_type": "code",
   "execution_count": null,
   "metadata": {},
   "outputs": [],
   "source": [
    "<div class=\" arrange__373c0__UHqhV gutter-2__373c0__3Zpeq layout-wrap__373c0__34d4b layout-2-units__373c0__3CiAk border-color--default__373c0__2oFDT\"><div class=\" arrange-unit__373c0__1piwO border-color--default__373c0__2oFDT\"><div class=\" arrange__373c0__UHqhV gutter-2__373c0__3Zpeq vertical-align-baseline__373c0__2s3Ze border-color--default__373c0__2oFDT\"><div class=\" arrange-unit__373c0__1piwO border-color--default__373c0__2oFDT\"><span aria-hidden=\"true\" class=\"icon--24-reservation css-18fyvmz\"><svg width=\"24\" height=\"24\" class=\"icon_svg\"><path d=\"M18 21H6a3 3 0 01-3-3V6a3 3 0 013-3 1 1 0 012 0h8a1 1 0 012 0 3 3 0 013 3v12a3 3 0 01-3 3zm1-13H5v10c0 .551.449 1 1 1h12c.551 0 1-.449 1-1V8zm-6 5h4v4h-4v-4z\"></path></svg></span></div><div class=\" arrange-unit__373c0__1piwO arrange-unit-fill__373c0__17z0h border-color--default__373c0__2oFDT\"><span class=\" css-1h1j0y3\">Takes Reservations</span></div></div></div><div class=\" arrange-unit__373c0__1piwO border-color--default__373c0__2oFDT\"><div class=\" arrange__373c0__UHqhV gutter-2__373c0__3Zpeq vertical-align-baseline__373c0__2s3Ze border-color--default__373c0__2oFDT\"><div class=\" arrange-unit__373c0__1piwO border-color--default__373c0__2oFDT\"><span aria-hidden=\"true\" class=\"icon--24-order css-18fyvmz\"><svg width=\"24\" height=\"24\" class=\"icon_svg\"><path d=\"M19 10V4h-6v10H9.444a3.485 3.485 0 00-4.888 0H2v3h1.55A3.49 3.49 0 007 20a3.49 3.49 0 003.45-3h3.1c.24 1.69 1.69 3 3.45 3 1.76 0 3.21-1.31 3.45-3H22v-5l-3-2zM7 18a1.5 1.5 0 11.001-3.001A1.5 1.5 0 017 18zm8-12h2v3h-2V6zm2 12c-.83 0-1.5-.67-1.5-1.5S16.17 15 17 15s1.5.67 1.5 1.5S17.83 18 17 18z\"></path><path d=\"M6 7V6c0-.551.449-1 1-1h1c.551 0 1 .449 1 1v1H6m2-4H7a3 3 0 00-3 3v1H2v7h11V7h-2V6a3 3 0 00-3-3\" opacity=\".502\"></path></svg></span></div><div class=\" arrange-unit__373c0__1piwO arrange-unit-fill__373c0__17z0h border-color--default__373c0__2oFDT\"><span class=\" css-1h1j0y3\">Offers Delivery</span></div></div></div><div class=\" arrange-unit__373c0__1piwO border-color--default__373c0__2oFDT\"><div class=\" arrange__373c0__UHqhV gutter-2__373c0__3Zpeq vertical-align-baseline__373c0__2s3Ze border-color--default__373c0__2oFDT\"><div class=\" arrange-unit__373c0__1piwO border-color--default__373c0__2oFDT\"><span aria-hidden=\"true\" class=\"icon--24-shopping css-18fyvmz\"><svg width=\"24\" height=\"24\" class=\"icon_svg\"><path d=\"M16 6V5a3 3 0 00-3-3h-2a3 3 0 00-3 3v1H5v13a3 3 0 003 3h8a3 3 0 003-3V6h-3zm-6-1c0-.551.449-1 1-1h2c.551 0 1 .449 1 1v1h-4V5z\"></path></svg></span></div><div class=\" arrange-unit__373c0__1piwO arrange-unit-fill__373c0__17z0h border-color--default__373c0__2oFDT\"><span class=\" css-1h1j0y3\">Offers Takeout</span></div></div></div><div class=\" arrange-unit__373c0__1piwO border-color--default__373c0__2oFDT\"><div class=\" arrange__373c0__UHqhV gutter-2__373c0__3Zpeq vertical-align-baseline__373c0__2s3Ze border-color--default__373c0__2oFDT\"><div class=\" arrange-unit__373c0__1piwO border-color--default__373c0__2oFDT\"><span aria-hidden=\"true\" class=\"icon--24-ambience css-18fyvmz\"><svg width=\"24\" height=\"24\" class=\"icon_svg\"><path d=\"M12 23c-4.963 0-9-4.037-9-9 0-3.91 2.51-7.235 6-8.475V2a1 1 0 011-1h4a1 1 0 011 1v3.525c3.49 1.24 6 4.565 6 8.475 0 4.963-4.037 9-9 9zM9.5 13c-.551 0-1 .449-1 1 0 .551.449 1 1 1 .551 0 1-.449 1-1 0-.551-.449-1-1-1zM11 7.08V12h2V7.08A7.014 7.014 0 0012 7c-.34 0-.673.033-1 .08zM13.5 14c0 .551.449 1 1 1 .551 0 1-.449 1-1 0-.551-.449-1-1-1-.551 0-1 .449-1 1zm.5-6.706V12h.5a2 2 0 11-2 2c0-.366.106-.705.277-1h-1.554c.171.295.277.634.277 1a2 2 0 11-2-2h.5V7.294A7 7 0 0012 21a7 7 0 002-13.706z\"></path></svg></span></div><div class=\" arrange-unit__373c0__1piwO arrange-unit-fill__373c0__17z0h border-color--default__373c0__2oFDT\"><span class=\" css-1h1j0y3\">Classy</span></div></div></div></div>"
   ]
  }
 ],
 "metadata": {
  "kernelspec": {
   "display_name": "Python 3",
   "language": "python",
   "name": "python3"
  },
  "language_info": {
   "codemirror_mode": {
    "name": "ipython",
    "version": 3
   },
   "file_extension": ".py",
   "mimetype": "text/x-python",
   "name": "python",
   "nbconvert_exporter": "python",
   "pygments_lexer": "ipython3",
   "version": "3.7.6"
  }
 },
 "nbformat": 4,
 "nbformat_minor": 4
}
