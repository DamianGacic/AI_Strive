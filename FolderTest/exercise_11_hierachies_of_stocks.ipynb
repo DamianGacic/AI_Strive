{
 "cells": [
  {
   "cell_type": "markdown",
   "metadata": {},
   "source": [
    "# Exercise 11: Hierarchies of stocks\n",
    "\n",
    "Previously, you used k-means clustering to cluster companies according to their stock price movements. This time, perform _hierarchical_ clustering of the companies.  You are given a NumPy array of price movements `movements`, where the rows correspond to companies, and a list of the company names `companies`.\n",
    "\n",
    "SciPy hierarchical clustering doesn't fit into a sklearn pipeline, so you'll need to use the `normalize()` function from `sklearn.preprocessing` instead of `Normalizer`."
   ]
  },
  {
   "cell_type": "markdown",
   "metadata": {},
   "source": [
    "**Step 1:** Load the data _(written for you)_"
   ]
  },
  {
   "cell_type": "code",
   "execution_count": 10,
   "metadata": {
    "exercise": false
   },
   "outputs": [
    {
     "data": {
      "text/plain": [
       "array([[ 5.8000000e-01, -2.2000500e-01, -3.4099980e+00, ...,\n",
       "        -5.3599620e+00,  8.4001900e-01, -1.9589981e+01],\n",
       "       [-6.4000200e-01, -6.5000000e-01, -2.1000100e-01, ...,\n",
       "        -4.0001000e-02, -4.0000200e-01,  6.6000000e-01],\n",
       "       [-2.3500060e+00,  1.2600090e+00, -2.3500060e+00, ...,\n",
       "         4.7900090e+00, -1.7600090e+00,  3.7400210e+00],\n",
       "       ...,\n",
       "       [ 4.3000100e-01,  2.2999600e-01,  5.7000000e-01, ...,\n",
       "        -2.6000200e-01,  4.0000100e-01,  4.8000300e-01],\n",
       "       [ 9.0000000e-02,  1.0000000e-02, -8.0000000e-02, ...,\n",
       "        -3.0000000e-02,  2.0000000e-02, -3.0000000e-02],\n",
       "       [ 1.5999900e-01,  1.0001000e-02,  0.0000000e+00, ...,\n",
       "        -6.0001000e-02,  2.5999800e-01,  9.9998000e-02]])"
      ]
     },
     "execution_count": 10,
     "metadata": {},
     "output_type": "execute_result"
    }
   ],
   "source": [
    "import pandas as pd\n",
    "\n",
    "fn = '../datasets/company-stock-movements-2010-2015-incl.csv'\n",
    "stocks_df = pd.read_csv(fn, index_col=0)\n",
    "\n",
    "companies = list(stocks_df.index)\n",
    "movements = stocks_df.values\n",
    "movements"
   ]
  },
  {
   "cell_type": "markdown",
   "metadata": {},
   "source": [
    "**Step 2:** Make the necessary imports:\n",
    "\n",
    " + `normalize` from `sklearn.preprocessing`.\n",
    " + `linkage` and `dendrogram` from `scipy.cluster.hierarchy`.\n",
    " + `matplotlib.pyplot` as `plt`."
   ]
  },
  {
   "cell_type": "code",
   "execution_count": 8,
   "metadata": {},
   "outputs": [],
   "source": [
    "from sklearn.preprocessing import normalize"
   ]
  },
  {
   "cell_type": "markdown",
   "metadata": {},
   "source": [
    "**Step 3:** Rescale the price movements for each stock by using the `normalize()` function on `movements`."
   ]
  },
  {
   "cell_type": "code",
   "execution_count": 11,
   "metadata": {},
   "outputs": [
    {
     "data": {
      "text/plain": [
       "array([[ 0.00302051, -0.00114574, -0.01775851, ..., -0.02791349,\n",
       "         0.00437463, -0.10202026],\n",
       "       [-0.02599391, -0.02639998, -0.00852927, ..., -0.00162466,\n",
       "        -0.01624623,  0.02680614],\n",
       "       [-0.02208986,  0.01184398, -0.02208986, ...,  0.04502568,\n",
       "        -0.01654394,  0.03515588],\n",
       "       ...,\n",
       "       [ 0.01981027,  0.01059598,  0.02626006, ..., -0.01197837,\n",
       "         0.01842816,  0.02211388],\n",
       "       [ 0.0200991 ,  0.00223323, -0.01786587, ..., -0.0066997 ,\n",
       "         0.00446647, -0.0066997 ],\n",
       "       [ 0.01796837,  0.00112314,  0.        , ..., -0.00673829,\n",
       "         0.02919855,  0.01123007]])"
      ]
     },
     "execution_count": 11,
     "metadata": {},
     "output_type": "execute_result"
    }
   ],
   "source": [
    "normalized_movements = normalize(movements)\n",
    "normalized_movements"
   ]
  },
  {
   "cell_type": "markdown",
   "metadata": {},
   "source": [
    "**Step 4:** Apply the `linkage()` function to `normalized_movements`, using `'complete'` linkage, to calculate the hierarchical clustering. Assign the result to `mergings`."
   ]
  },
  {
   "cell_type": "code",
   "execution_count": 19,
   "metadata": {},
   "outputs": [],
   "source": [
    "from scipy.cluster.hierarchy import linkage\n",
    "mergings = linkage(normalized_movements, method='complete')"
   ]
  },
  {
   "cell_type": "markdown",
   "metadata": {},
   "source": [
    "**Step 5:** Plot a dendrogram of the hierarchical clustering, using the list `companies` of company names as the `labels`. In addition, specify the `leaf_rotation=90`, and `leaf_font_size=10` keyword arguments as you did in the previous exercise."
   ]
  },
  {
   "cell_type": "code",
   "execution_count": 21,
   "metadata": {},
   "outputs": [
    {
     "data": {
      "image/png": "[encoded data removed]",
      "text/plain": [
       "<Figure size 432x288 with 1 Axes>"
      ]
     },
     "metadata": {
      "needs_background": "light"
     },
     "output_type": "display_data"
    }
   ],
   "source": [
    "from scipy.cluster.hierarchy import dendrogram\n",
    "dn = dendrogram(mergings, leaf_rotation = 90, leaf_font_size= 10 )"
   ]
  }
 ],
 "metadata": {
  "kernelspec": {
   "display_name": "Python 3",
   "language": "python",
   "name": "python3"
  },
  "language_info": {
   "codemirror_mode": {
    "name": "ipython",
    "version": 3
   },
   "file_extension": ".py",
   "mimetype": "text/x-python",
   "name": "python",
   "nbconvert_exporter": "python",
   "pygments_lexer": "ipython3",
   "version": "3.7.6"
  }
 },
 "nbformat": 4,
 "nbformat_minor": 2
}
