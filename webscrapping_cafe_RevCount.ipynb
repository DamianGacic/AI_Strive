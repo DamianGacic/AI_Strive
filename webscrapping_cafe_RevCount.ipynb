{
 "cells": [
  {
   "cell_type": "code",
   "execution_count": 2,
   "metadata": {},
   "outputs": [],
   "source": [
    "import time\n",
    "import pandas as pd\n",
    "import numpy as np\n",
    "import requests\n",
    "from bs4 import BeautifulSoup\n",
    "import random"
   ]
  },
  {
   "cell_type": "code",
   "execution_count": 3,
   "metadata": {
    "scrolled": false
   },
   "outputs": [],
   "source": [
    "page = requests.get(\"https://www.yelp.com/search?find_desc=cafes&find_loc=amsterdam&start=0\")\n",
    "x = np.random.uniform(1, 3)\n",
    "time.sleep(x)\n",
    "#page\n",
    "#page.status_code\n",
    "page.content\n",
    "soup = BeautifulSoup(page.content, \"html.parser\")\n",
    "#soup"
   ]
  },
  {
   "cell_type": "code",
   "execution_count": 7,
   "metadata": {},
   "outputs": [
    {
     "data": {
      "text/plain": [
       "['82', ' 491', ' 697', ' 121', ' 77', ' 70', ' 36', ' 112', ' 86', ' 6']"
      ]
     },
     "execution_count": 7,
     "metadata": {},
     "output_type": "execute_result"
    }
   ],
   "source": [
    "RevC = soup.find_all('span', class_ = \"reviewCount__09f24__EUXPN css-e81eai\")\n",
    "#RevCount = []\n",
    "#Restaurants  = soup.find_all('a',class_ = 'css-166la90')\n",
    "#for i in range(10):\n",
    "#    NamesList.append(names[i].text)\n",
    "#NamesList\n",
    "RevC = str(RevC)\n",
    "RevCount = RevC.replace('[','').replace(']','').replace('</span>','').replace('<span class=\"reviewCount__09f24__EUXPN css-e81eai\">','').split(',')\n",
    "RevCount"
   ]
  },
  {
   "cell_type": "code",
   "execution_count": null,
   "metadata": {},
   "outputs": [],
   "source": [
    "<span class=\"reviewCount__09f24__EUXPN css-e81eai\">82</span>\n",
    "replace('<span class=\"reviewCount__09f24__EUXPN css-e81eai\">','')"
   ]
  }
 ],
 "metadata": {
  "kernelspec": {
   "display_name": "Python 3",
   "language": "python",
   "name": "python3"
  },
  "language_info": {
   "codemirror_mode": {
    "name": "ipython",
    "version": 3
   },
   "file_extension": ".py",
   "mimetype": "text/x-python",
   "name": "python",
   "nbconvert_exporter": "python",
   "pygments_lexer": "ipython3",
   "version": "3.7.6"
  }
 },
 "nbformat": 4,
 "nbformat_minor": 4
}
