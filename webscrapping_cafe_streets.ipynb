{
 "cells": [
  {
   "cell_type": "code",
   "execution_count": 2,
   "metadata": {},
   "outputs": [],
   "source": [
    "import time\n",
    "import pandas as pd\n",
    "import numpy as np\n",
    "import requests\n",
    "from bs4 import BeautifulSoup\n",
    "import random"
   ]
  },
  {
   "cell_type": "code",
   "execution_count": 3,
   "metadata": {
    "scrolled": false
   },
   "outputs": [],
   "source": [
    "page = requests.get(\"https://www.yelp.com/search?find_desc=cafes&find_loc=amsterdam&start=10\")\n",
    "x = np.random.uniform(1, 3)\n",
    "time.sleep(x)\n",
    "#page\n",
    "#page.status_code\n",
    "page.content\n",
    "soup = BeautifulSoup(page.content, \"html.parser\")\n",
    "#soup"
   ]
  },
  {
   "cell_type": "code",
   "execution_count": 47,
   "metadata": {},
   "outputs": [
    {
     "data": {
      "text/plain": [
       "['Stromarkt 15',\n",
       " 'Utrechtsestraat 19',\n",
       " 'Ceintuurbaan 282-284',\n",
       " 'Prinsengracht 180',\n",
       " 'Camperstraat 48-50',\n",
       " 'Johannes Vermeerstraat 40',\n",
       " 'Weteringschans 157',\n",
       " 'Prins Hendrikkade 57',\n",
       " 'Singel 461',\n",
       " 'Zeedijk 75']"
      ]
     },
     "execution_count": 47,
     "metadata": {},
     "output_type": "execute_result"
    }
   ],
   "source": [
    "Streets = []\n",
    "Locs2 = soup.find_all('p', class_ = \"css-8jxw1i\")\n",
    "Locs2\n",
    "for i in range(len(Locs2)):\n",
    "    Streets.append(Locs2[i].text)\n",
    "Locations\n",
    "for e in Streets:\n",
    "    if not any(chr.isalpha() for chr in e):\n",
    "        Streets.remove(e)\n",
    "for e in Streets:\n",
    "    if not any(chr.isdigit() for chr in e):\n",
    "        Streets.remove(e)\n",
    "\n",
    "Streets"
   ]
  },
  {
   "cell_type": "code",
   "execution_count": null,
   "metadata": {},
   "outputs": [],
   "source": [
    "<class=\" css-8jxw1i\">Centrum</p></div></div>"
   ]
  },
  {
   "cell_type": "code",
   "execution_count": null,
   "metadata": {},
   "outputs": [],
   "source": [
    "Locations = []\n",
    "for i in range(10):\n",
    "    Locations.append(Locs[i].text)\n",
    "Locations\n",
    "<p class=\" css-8jxw1i\">Centrum</p>\n",
    "<p class=\" css-8jxw1i\">De Pijp</p>"
   ]
  }
 ],
 "metadata": {
  "kernelspec": {
   "display_name": "Python 3",
   "language": "python",
   "name": "python3"
  },
  "language_info": {
   "codemirror_mode": {
    "name": "ipython",
    "version": 3
   },
   "file_extension": ".py",
   "mimetype": "text/x-python",
   "name": "python",
   "nbconvert_exporter": "python",
   "pygments_lexer": "ipython3",
   "version": "3.7.6"
  }
 },
 "nbformat": 4,
 "nbformat_minor": 4
}
