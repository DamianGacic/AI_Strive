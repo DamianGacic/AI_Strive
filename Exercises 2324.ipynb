{
 "cells": [
  {
   "cell_type": "code",
   "execution_count": 4,
   "metadata": {},
   "outputs": [],
   "source": [
    "# import the needed libraries and datasets\n",
    "import numpy as np\n",
    "import pandas as pd"
   ]
  },
  {
   "cell_type": "markdown",
   "metadata": {},
   "source": [
    "**23.** Given a DataFrame of numeric values, say\n",
    "```python\n",
    "df = pd.DataFrame(np.random.random(size=(5, 3))) # a 5x3 frame of float values\n",
    "```\n",
    "\n",
    "how do you subtract the row mean from each element in the row?"
   ]
  },
  {
   "cell_type": "code",
   "execution_count": 13,
   "metadata": {},
   "outputs": [
    {
     "data": {
      "text/html": [
       "<div>\n",
       "<style scoped>\n",
       "    .dataframe tbody tr th:only-of-type {\n",
       "        vertical-align: middle;\n",
       "    }\n",
       "\n",
       "    .dataframe tbody tr th {\n",
       "        vertical-align: top;\n",
       "    }\n",
       "\n",
       "    .dataframe thead th {\n",
       "        text-align: right;\n",
       "    }\n",
       "</style>\n",
       "<table border=\"1\" class=\"dataframe\">\n",
       "  <thead>\n",
       "    <tr style=\"text-align: right;\">\n",
       "      <th></th>\n",
       "      <th>0</th>\n",
       "      <th>1</th>\n",
       "      <th>2</th>\n",
       "    </tr>\n",
       "  </thead>\n",
       "  <tbody>\n",
       "    <tr>\n",
       "      <th>0</th>\n",
       "      <td>0.232695</td>\n",
       "      <td>0.061339</td>\n",
       "      <td>-0.294034</td>\n",
       "    </tr>\n",
       "    <tr>\n",
       "      <th>1</th>\n",
       "      <td>-0.024650</td>\n",
       "      <td>0.338043</td>\n",
       "      <td>-0.313394</td>\n",
       "    </tr>\n",
       "    <tr>\n",
       "      <th>2</th>\n",
       "      <td>0.102500</td>\n",
       "      <td>-0.195525</td>\n",
       "      <td>0.093025</td>\n",
       "    </tr>\n",
       "    <tr>\n",
       "      <th>3</th>\n",
       "      <td>-0.114831</td>\n",
       "      <td>0.249823</td>\n",
       "      <td>-0.134992</td>\n",
       "    </tr>\n",
       "    <tr>\n",
       "      <th>4</th>\n",
       "      <td>0.307091</td>\n",
       "      <td>-0.018930</td>\n",
       "      <td>-0.288162</td>\n",
       "    </tr>\n",
       "  </tbody>\n",
       "</table>\n",
       "</div>"
      ],
      "text/plain": [
       "          0         1         2\n",
       "0  0.232695  0.061339 -0.294034\n",
       "1 -0.024650  0.338043 -0.313394\n",
       "2  0.102500 -0.195525  0.093025\n",
       "3 -0.114831  0.249823 -0.134992\n",
       "4  0.307091 -0.018930 -0.288162"
      ]
     },
     "execution_count": 13,
     "metadata": {},
     "output_type": "execute_result"
    }
   ],
   "source": [
    "df = pd.DataFrame(np.random.random(size=(5, 3)))\n",
    "df.sub(df.mean(axis=1), axis=0) "
   ]
  },
  {
   "cell_type": "markdown",
   "metadata": {},
   "source": [
    "**24.** Suppose you have DataFrame with 10 columns of real numbers, for example:\n",
    "\n",
    "```python\n",
    "df = pd.DataFrame(np.random.random(size=(5, 10)), columns=list('abcdefghij'))\n",
    "```\n",
    "Which column of numbers has the smallest sum? (Find that column's label.)"
   ]
  },
  {
   "cell_type": "code",
   "execution_count": 59,
   "metadata": {},
   "outputs": [
    {
     "name": "stdout",
     "output_type": "stream",
     "text": [
      "          a         b         c         d         e         f         g  \\\n",
      "0  0.326973  0.438378  0.510490  0.181260  0.825169  0.692318  0.077719   \n",
      "1  0.380854  0.978353  0.188657  0.567718  0.956376  0.092624  0.214269   \n",
      "2  0.346825  0.326941  0.509288  0.361389  0.782392  0.174598  0.646124   \n",
      "3  0.414474  0.214089  0.650624  0.493655  0.843596  0.248537  0.542160   \n",
      "4  0.419531  0.677169  0.587737  0.784336  0.334379  0.180054  0.522528   \n",
      "\n",
      "          h         i         j  \n",
      "0  0.650103  0.043202  0.300379  \n",
      "1  0.759327  0.822723  0.382039  \n",
      "2  0.880114  0.028569  0.444349  \n",
      "3  0.980358  0.585950  0.302752  \n",
      "4  0.660552  0.765041  0.616460  \n",
      "a    1.888658\n",
      "b    2.634931\n",
      "c    2.446797\n",
      "d    2.388357\n",
      "e    3.741912\n",
      "f    1.388131\n",
      "g    2.002800\n",
      "h    3.930454\n",
      "i    2.245485\n",
      "j    2.045978\n",
      "dtype: float64\n",
      "1.3881313435552625\n"
     ]
    }
   ],
   "source": [
    "df = pd.DataFrame(np.random.random(size=(5, 10)), columns=list('abcdefghij'))\n",
    "print(df)\n",
    "print(df.sum(axis=0))\n",
    "print(min(df.sum(axis=0))) #i know i didnt get the columns label"
   ]
  }
 ],
 "metadata": {
  "kernelspec": {
   "display_name": "Python 3",
   "language": "python",
   "name": "python3"
  },
  "language_info": {
   "codemirror_mode": {
    "name": "ipython",
    "version": 3
   },
   "file_extension": ".py",
   "mimetype": "text/x-python",
   "name": "python",
   "nbconvert_exporter": "python",
   "pygments_lexer": "ipython3",
   "version": "3.7.6"
  }
 },
 "nbformat": 4,
 "nbformat_minor": 5
}
