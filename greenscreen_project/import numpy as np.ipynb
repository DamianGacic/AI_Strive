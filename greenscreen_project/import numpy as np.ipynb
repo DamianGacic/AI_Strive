import numpy as np
import cv2
import os
import matplotlib.pyplot as plt

img = cv2.imread('Cards.v1-first.yolov5pytorch/train\images/0S1_jpg.rf.7dd27db352decb747371b094887e9721.jpg')
dh, dw, _ = img.shape

fl = open('Cards.v1-first.yolov5pytorch/train/labels/0S1_jpg.rf.7dd27db352decb747371b094887e9721.txt', 'r')
data = fl.readlines()
fl.close()
roi1 = 's'
roi2 = 's'
roi3 = 's'
roi4 = 's'
for dt in data:

    # Split string to float
    _, x, y, w, h = map(float, dt.split(' '))

    # Taken from https://github.com/pjreddie/darknet/blob/810d7f797bdb2f021dbe65d2524c2ff6b8ab5c8b/src/image.c#L283-L291
    # via https://stackoverflow.com/questions/44544471/how-to-get-the-coordinates-of-the-bounding-box-in-yolo-object-detection#comment102178409_44592380
    l = int((x - w / 2) * dw)
    r = int((x + w / 2) * dw)
    t = int((y - h / 2) * dh)
    b = int((y + h / 2) * dh)
    
    if l < 0:
        l = 0
    if r > dw - 1:
        r = dw - 1
    if t < 0:
        t = 0
    if b > dh - 1:
        b = dh - 1

    if roi1 == 's':
        roi1 = img[t:b,l:r]
    elif roi2 == 's':
        roi2 = img[t:b,l:r]
    elif roi3 == 's':
        roi3 = img[t:b,l:r]
    elif roi4 == 's':
        roi4 = img[t:b,l:r]
    else:
        break
plt.imshow(img)
plt.show()
plt.imshow(roi1)
plt.show()
plt.imshow(roi2)
plt.show()
plt.imshow(roi3)
plt.show()
plt.imshow(roi4)
plt.show()

cv2.imwrite("Cards.v1-first.yolov5pytorch/train/roi1/"+str(roi1)+".jpg", roi1)
cv2.imwrite("Cards.v1-first.yolov5pytorch/train/roi1/"+str(roi2)+".jpg", roi2)
cv2.imwrite("Cards.v1-first.yolov5pytorch/train/roi1/"+str(roi3)+".jpg", roi3)
cv2.imwrite("Cards.v1-first.yolov5pytorch/train/roi1/"+str(roi4)+".jpg", roi4)