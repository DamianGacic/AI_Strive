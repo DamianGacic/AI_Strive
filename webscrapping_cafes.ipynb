{
 "cells": [
  {
   "cell_type": "code",
   "execution_count": 9,
   "metadata": {},
   "outputs": [],
   "source": [
    "import time\n",
    "import pandas as pd\n",
    "import numpy as np\n",
    "import requests\n",
    "from bs4 import BeautifulSoup\n",
    "import random"
   ]
  },
  {
   "cell_type": "code",
   "execution_count": 13,
   "metadata": {
    "scrolled": false
   },
   "outputs": [
    {
     "data": {
      "text/plain": [
       "[]"
      ]
     },
     "execution_count": 13,
     "metadata": {},
     "output_type": "execute_result"
    }
   ],
   "source": [
    "page = requests.get(\"https://www.yelp.com/search?find_desc=cafes&find_loc=amsterdam&start=10\")\n",
    "x = np.random.uniform(1, 3)\n",
    "time.sleep(x)\n",
    "#page\n",
    "#page.status_code\n",
    "page.content\n",
    "soup = BeautifulSoup(page.content, \"html.parser\")\n",
    "#soup\n",
    "ratings = soup.find_all('', class_ = \"\")\n",
    "ratings"
   ]
  },
  {
   "cell_type": "code",
   "execution_count": 12,
   "metadata": {},
   "outputs": [
    {
     "data": {
      "text/plain": [
       "[]"
      ]
     },
     "execution_count": 12,
     "metadata": {},
     "output_type": "execute_result"
    }
   ],
   "source": [
    "<div class=\"container__09f24__21w3G hoverable__09f24__2nTf3 margin-t3__09f24__5bM2Z margin-b3__09f24__1DQ9x padding-t3__09f24__-R_5x padding-r3__09f24__1pBFG padding-b3__09f24__1vW6j padding-l3__09f24__1yCJf border--top__09f24__8W8ca border--right__09f24__1u7Gt border--bottom__09f24__xdij8 border--left__09f24__rwKIa border-color--default__09f24__1eOdn\" style=\"--max-radius:2435.051128826662px; --mousedown-x:842px; --mousedown-y:73px;\"><div class=\" border-color--default__09f24__1eOdn\"><div class=\" arrange__09f24__2v3uJ border-color--default__09f24__1eOdn\"><div class=\" arrange-unit__09f24__3IxLD border-color--default__09f24__1eOdn\"><div class=\" border-color--default__09f24__1eOdn\"><div class=\" display--inline-block__09f24__3L1EB margin-r3__09f24__2CcgQ border-color--default__09f24__1eOdn\"><div class=\" border-color--default__09f24__1eOdn\"><div class=\" container__09f24__2BlDc dontTriggerCardClick__09f24__2GWZF container--responsive__09f24__1BXoY container__09f24__1SkkV border-color--default__09f24__1eOdn\" data-slidenum=\"0\" data-lcp-target-id=\"SCROLLABLE_PHOTO_BOX\"><div class=\" container__09f24__15LDH border-color--default__09f24__1eOdn\" aria-label=\"Slideshow\"><div class=\" child__09f24__27sCM border-color--default__09f24__1eOdn\" style=\"transition:transform 150ms ease-in-out\"><div class=\" css-0 border-color--default__09f24__1eOdn\"><a href=\"/biz/bocca-coffee-company-amsterdam?osq=cafes\" class=\"css-5r1d0t\" target=\"\" name=\"\" rel=\"\"><img class=\" css-xlzvdl\" src=\"https://s3-media0.fl.yelpcdn.com/bphoto/HuJpzbVDrpKl0j2YOPdEJA/ls.jpg\" srcset=\"https://s3-media0.fl.yelpcdn.com/bphoto/HuJpzbVDrpKl0j2YOPdEJA/258s.jpg 1.03x,https://s3-media0.fl.yelpcdn.com/bphoto/HuJpzbVDrpKl0j2YOPdEJA/300s.jpg 1.20x,https://s3-media0.fl.yelpcdn.com/bphoto/HuJpzbVDrpKl0j2YOPdEJA/348s.jpg 1.39x\" alt=\"Bocca Coffee Company\" loading=\"auto\" draggable=\"true\" width=\"100%\" height=\"100%\"></a></div></div><div class=\" button__09f24__19-FT left__09f24__cBAtS disabled__09f24__3LYYR border-color--default__09f24__1eOdn\" role=\"button\" aria-label=\"Previous\" tabindex=\"0\"><span aria-hidden=\"true\" class=\"icon--24-chevron-left-v2 css-4p40fi\"><svg width=\"24\" height=\"24\" class=\"icon_svg\"><path d=\"M14.25 17.58a1 1 0 01-.71-.3L9 12.7a1 1 0 010-1.4l4.5-4.58A1 1 0 0115 6.7a1 1 0 010 1.42L11.15 12 15 15.88a1 1 0 010 1.42 1 1 0 01-.75.28z\"></path></svg></span></div><div class=\" button__09f24__19-FT right__09f24__3E7bL border-color--default__09f24__1eOdn\" role=\"button\" aria-label=\"Next\" tabindex=\"0\"><span aria-hidden=\"true\" class=\"icon--24-chevron-right-v2 css-4p40fi\"><svg width=\"24\" height=\"24\" class=\"icon_svg\"><path d=\"M9.75 17.58a1 1 0 01-.7-.28 1 1 0 010-1.42l3.8-3.88L9 8.12a1 1 0 111.41-1.42L15 11.3a1 1 0 010 1.4l-4.5 4.58a1 1 0 01-.75.3z\"></path></svg></span></div></div></div></div></div></div></div><div class=\" arrange-unit__09f24__3IxLD arrange-unit-fill__09f24__1v_h4 border-color--default__09f24__1eOdn\"><div class=\" border-color--default__09f24__1eOdn\"><div class=\" scrollablePhotos__09f24__1PpB8 arrange__09f24__2v3uJ border-color--default__09f24__1eOdn\"><div class=\" mainAttributes__09f24__26-vh arrange-unit__09f24__3IxLD arrange-unit-fill__09f24__1v_h4 border-color--default__09f24__1eOdn\"><div class=\" border-color--default__09f24__1eOdn\"><div class=\" border-color--default__09f24__1eOdn\"><div class=\" businessName__09f24__3Wql2 display--inline-block__09f24__3L1EB border-color--default__09f24__1eOdn\"><div class=\" border-color--default__09f24__1eOdn\"><h4 class=\"css-1l5lt1i\"><span class=\" css-1pxmz4g\">1<!-- -->.&nbsp;<a href=\"/biz/bocca-coffee-company-amsterdam?osq=cafes\" class=\"css-166la90\" target=\"\" name=\"Bocca Coffee Company\" rel=\"\">Bocca Coffee Company</a></span></h4></div></div></div><div class=\" border-color--default__09f24__1eOdn\"><div class=\" display--inline-block__09f24__3L1EB border-color--default__09f24__1eOdn\"><div class=\" border-color--default__09f24__1eOdn\"><div class=\" attribute__09f24__3znwq display--inline-block__09f24__3L1EB margin-r1__09f24__BCulR border-color--default__09f24__1eOdn\"><span class=\" display--inline__09f24__EhyFv border-color--default__09f24__1eOdn\"><div class=\" i-stars__09f24__1T6rz i-stars--regular-4-half__09f24__1YrPo border-color--default__09f24__1eOdn overflow--hidden__09f24__3z7CX\" aria-label=\"4.5 star rating\" role=\"img\"><img class=\" offscreen__09f24__1VFco\" src=\"https://s3-media0.fl.yelpcdn.com/assets/public/stars_v2.yji-52d3d7a328db670d4402843cbddeed89.png\" alt=\"\" width=\"132\" height=\"560\"></div></span></div><div class=\" attribute__09f24__3znwq display--inline-block__09f24__3L1EB border-color--default__09f24__1eOdn\"><span class=\"reviewCount__09f24__EUXPN css-e81eai\">82</span></div></div></div></div><div class=\" border-color--default__09f24__1eOdn\"><div class=\" priceCategory__09f24__2IbAM display--inline-block__09f24__3L1EB border-color--default__09f24__1eOdn\"><div class=\" border-color--default__09f24__1eOdn\"><div class=\" border-color--default__09f24__1eOdn\"><p class=\"css-1j7sdmt\"><span class=\" display--inline__09f24__EhyFv border-color--default__09f24__1eOdn\"><span class=\"priceRange__09f24__2O6le css-xtpg8e\">€€</span></span><span class=\" display--inline__09f24__EhyFv border-color--default__09f24__1eOdn\"><span class=\" display--inline__09f24__EhyFv border-color--default__09f24__1eOdn\"><span class=\" css-f7rmk3\"><a href=\"/search?cflt=coffeeroasteries&amp;find_loc=amsterdam\" class=\"css-1joxor6\" target=\"\" name=\"\" rel=\"\" role=\"link\">Coffee Roasteries</a>, </span></span><span class=\" display--inline__09f24__EhyFv border-color--default__09f24__1eOdn\"><span class=\" css-f7rmk3\"><a href=\"/search?cflt=coffee&amp;find_loc=amsterdam\" class=\"css-1joxor6\" target=\"\" name=\"\" rel=\"\" role=\"link\">Coffee &amp; Tea</a></span></span></span></p></div></div></div></div></div></div><div class=\" secondaryAttributes__09f24__3db5x arrange-unit__09f24__3IxLD border-color--default__09f24__1eOdn\"><div class=\" container__09f24__1fWZl padding-l2__09f24__2MHQ3 border-color--default__09f24__1eOdn text-align--right__09f24__2OpQD\"><div class=\" border-color--default__09f24__1eOdn\"><div class=\" display--inline-block__09f24__3L1EB border-color--default__09f24__1eOdn\"><div class=\" border-color--default__09f24__1eOdn\"><p class=\" css-8jxw1i\">0321-314667</p></div></div></div><address class=\"\"><div class=\" border-color--default__09f24__1eOdn\"><div class=\" display--inline-block__09f24__3L1EB border-color--default__09f24__1eOdn\"><div class=\" border-color--default__09f24__1eOdn\"><p class=\" css-8jxw1i\"><span class=\" raw__09f24__3Obuy\">Kerkstraat 96</span></p></div></div></div></address><div class=\" margin-b1__09f24__1647o border-color--default__09f24__1eOdn\"><div class=\" border-color--default__09f24__1eOdn\"><div class=\" display--inline-block__09f24__3L1EB border-color--default__09f24__1eOdn\"><div class=\" border-color--default__09f24__1eOdn\"><p class=\" css-8jxw1i\">Centrum</p></div></div></div></div></div></div></div></div><div class=\" border-color--default__09f24__1eOdn\"><div class=\" display--inline-block__09f24__3L1EB margin-t1__09f24__3OFkY border-color--default__09f24__1eOdn\"><div class=\" border-color--default__09f24__1eOdn\"><div class=\" arrange__09f24__2v3uJ gutter-auto__09f24__3jBHO vertical-align-middle__09f24__1tXIr border-color--default__09f24__1eOdn\"><div class=\" arrange-unit__09f24__3IxLD arrange-unit-fill__09f24__1v_h4 border-color--default__09f24__1eOdn\"><p class=\" css-e81eai\">“Bocca was founded by a Dutchman who began his search for the perfect <span class=\" css-1pxmz4g\">coffee</span> bean in Ethiopia”<span class=\" css-4ldy5a\">&nbsp;<a href=\"/biz/bocca-coffee-company-amsterdam?hrid=BfHEbH4SVdCInMFdokA2Dw&amp;osq=cafes\" class=\"css-ac8spe\" target=\"\" name=\"\" rel=\"\">more</a></span></p></div></div></div></div></div><div class=\" border-color--default__09f24__1eOdn\"></div></div></div></div></div>"
   ]
  }
 ],
 "metadata": {
  "kernelspec": {
   "display_name": "Python 3",
   "language": "python",
   "name": "python3"
  },
  "language_info": {
   "codemirror_mode": {
    "name": "ipython",
    "version": 3
   },
   "file_extension": ".py",
   "mimetype": "text/x-python",
   "name": "python",
   "nbconvert_exporter": "python",
   "pygments_lexer": "ipython3",
   "version": "3.7.6"
  }
 },
 "nbformat": 4,
 "nbformat_minor": 4
}
