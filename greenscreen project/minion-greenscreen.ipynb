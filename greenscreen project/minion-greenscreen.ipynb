{
 "cells": [
  {
   "cell_type": "code",
   "execution_count": 3,
   "source": [
    "import matplotlib.pyplot as plt\r\n",
    "import numpy as np\r\n",
    "import cv2"
   ],
   "outputs": [],
   "metadata": {}
  },
  {
   "cell_type": "code",
   "execution_count": 4,
   "source": [
    "# Read in the image\r\n",
    "image = cv2.imread('gs3.jpg')\r\n",
    "# Print out the image dimensions (height, width, and depth (color))\r\n",
    "print('Image dimensions:', image.shape)\r\n",
    "# Display the image\r\n",
    "cv2.imshow('img',image)\r\n",
    "cv2.waitKey(0)\r\n",
    "cv2.destroyAllWindows()\r\n",
    "cv2.waitKey(1)"
   ],
   "outputs": [
    {
     "output_type": "stream",
     "name": "stdout",
     "text": [
      "Image dimensions: (1080, 1920, 3)\n"
     ]
    },
    {
     "output_type": "execute_result",
     "data": {
      "text/plain": [
       "-1"
      ]
     },
     "metadata": {},
     "execution_count": 4
    }
   ],
   "metadata": {}
  },
  {
   "cell_type": "code",
   "execution_count": 5,
   "source": [
    "lower_green = np.array([0,160,0])\r\n",
    "upper_green = np.array([120,255,120])"
   ],
   "outputs": [],
   "metadata": {}
  },
  {
   "cell_type": "code",
   "execution_count": 6,
   "source": [
    "mask = cv2.inRange(image, lower_green, upper_green)\r\n",
    "# Vizualize the mask\r\n",
    "cv2.imshow('mask',mask)\r\n",
    "cv2.waitKey(0)\r\n",
    "cv2.destroyAllWindows()\r\n",
    "cv2.waitKey(1)\r\n"
   ],
   "outputs": [
    {
     "output_type": "execute_result",
     "data": {
      "text/plain": [
       "-1"
      ]
     },
     "metadata": {},
     "execution_count": 6
    }
   ],
   "metadata": {}
  },
  {
   "cell_type": "code",
   "execution_count": 14,
   "source": [
    "masked_image = np.copy(image)\r\n",
    "masked_image[mask != 0] = [0, 0, 0]\r\n",
    "cv2.imshow('mask_img',masked_image)\r\n",
    "cv2.waitKey(0)\r\n",
    "cv2.destroyAllWindows()\r\n",
    "cv2.waitKey(1)"
   ],
   "outputs": [
    {
     "output_type": "execute_result",
     "data": {
      "text/plain": [
       "-1"
      ]
     },
     "metadata": {},
     "execution_count": 14
    }
   ],
   "metadata": {}
  },
  {
   "cell_type": "code",
   "execution_count": 15,
   "source": [
    "# Load in a background image, and convert it to RGB\r\n",
    "background_image = cv2.imread('motorhome-caravan.jpg')\r\n",
    "#background_image = cv2.cvtColor(background_image, cv2.cv2.COLOR_BGR2RGB)\r\n",
    "## TODO: Crop it or resize the background to be the right size (450x660)\r\n",
    "# Hint: Make sure the dimensions are in the correct order!\r\n",
    "bg_copy = np.copy(background_image)\r\n",
    "resized = cv2.resize(bg_copy, (1920,1080), interpolation = cv2.INTER_AREA)\r\n",
    "## TODO: Mask the cropped background so that the car area is blocked\r\n",
    "# Hint: mask the opposite area of the previous image\r\n",
    "#im_bg_copy_croped[mask == 0] = [0, 0, 0]\r\n",
    "resized.shape\r\n",
    "cv2.imshow('resized',resized)\r\n",
    "cv2.waitKey(0)\r\n",
    "cv2.destroyAllWindows()\r\n",
    "cv2.waitKey(1)"
   ],
   "outputs": [
    {
     "output_type": "execute_result",
     "data": {
      "text/plain": [
       "-1"
      ]
     },
     "metadata": {},
     "execution_count": 15
    }
   ],
   "metadata": {}
  },
  {
   "cell_type": "code",
   "execution_count": 16,
   "source": [
    "inv_mask = cv2.bitwise_not(mask)\n",
    "cv2.imshow('resized',inv_mask)\n",
    "cv2.waitKey(0)\n",
    "cv2.destroyAllWindows()\n",
    "cv2.waitKey(1)"
   ],
   "outputs": [
    {
     "output_type": "execute_result",
     "data": {
      "text/plain": [
       "-1"
      ]
     },
     "metadata": {},
     "execution_count": 16
    }
   ],
   "metadata": {}
  },
  {
   "cell_type": "code",
   "execution_count": 17,
   "source": [
    "masked_bg = np.copy(resized)\n",
    "masked_bg[inv_mask != 0] = [0, 0, 0]\n",
    "cv2.imshow('mask_bg',masked_bg)\n",
    "cv2.waitKey(0)\n",
    "cv2.destroyAllWindows()\n",
    "cv2.waitKey(1)"
   ],
   "outputs": [
    {
     "output_type": "execute_result",
     "data": {
      "text/plain": [
       "-1"
      ]
     },
     "metadata": {},
     "execution_count": 17
    }
   ],
   "metadata": {}
  },
  {
   "cell_type": "code",
   "execution_count": 18,
   "source": [
    "final = masked_bg + masked_image\r\n",
    "cv2.imshow('final',final)\r\n",
    "cv2.waitKey(0)\r\n",
    "cv2.destroyAllWindows()\r\n",
    "cv2.waitKey(1)"
   ],
   "outputs": [
    {
     "output_type": "execute_result",
     "data": {
      "text/plain": [
       "-1"
      ]
     },
     "metadata": {},
     "execution_count": 18
    }
   ],
   "metadata": {}
  }
 ],
 "metadata": {
  "interpreter": {
   "hash": "912c69523b93010c508701d0af843ce23b6d6e756d92e93831f5fe5f47ff0e42"
  },
  "kernelspec": {
   "name": "python3",
   "display_name": "Python 3.8.11 64-bit ('mlmodule': conda)"
  },
  "language_info": {
   "codemirror_mode": {
    "name": "ipython",
    "version": 3
   },
   "file_extension": ".py",
   "mimetype": "text/x-python",
   "name": "python",
   "nbconvert_exporter": "python",
   "pygments_lexer": "ipython3",
   "version": "3.8.11"
  }
 },
 "nbformat": 4,
 "nbformat_minor": 2
}