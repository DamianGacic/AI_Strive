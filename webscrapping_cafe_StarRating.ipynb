{
 "cells": [
  {
   "cell_type": "code",
   "execution_count": 20,
   "metadata": {},
   "outputs": [],
   "source": [
    "import time\n",
    "import pandas as pd\n",
    "import numpy as np\n",
    "import requests\n",
    "from bs4 import BeautifulSoup\n",
    "import random"
   ]
  },
  {
   "cell_type": "code",
   "execution_count": 23,
   "metadata": {
    "scrolled": false
   },
   "outputs": [],
   "source": [
    "page = requests.get(\"https://www.yelp.com/search?find_desc=cafes&find_loc=amsterdam&start=190\")\n",
    "x = np.random.uniform(1, 3)\n",
    "time.sleep(x)\n",
    "#page\n",
    "#page.status_code\n",
    "page.content\n",
    "soup = BeautifulSoup(page.content, \"html.parser\")\n",
    "#soup"
   ]
  },
  {
   "cell_type": "code",
   "execution_count": 24,
   "metadata": {},
   "outputs": [
    {
     "data": {
      "text/plain": [
       "['4', '3.5', '4', '3.5', '4', '4.5', '4', '3.5', '4.5', '4']"
      ]
     },
     "execution_count": 24,
     "metadata": {},
     "output_type": "execute_result"
    }
   ],
   "source": [
    "import re\n",
    "R = soup.find_all('span',class_= 'display--inline__09f24__EhyFv border-color--default__09f24__1eOdn')\n",
    "rating = []\n",
    "for r in R:\n",
    "    r = str(r)\n",
    "    t = re.findall('aria-label=\"(\\S+)',r)\n",
    "    if len(t) ==0:\n",
    "        continue \n",
    "    rating.append(t[0])\n",
    "rating.remove('Search\"')\n",
    "rating.remove('Page:')\n",
    "rating"
   ]
  }
 ],
 "metadata": {
  "kernelspec": {
   "display_name": "Python 3",
   "language": "python",
   "name": "python3"
  },
  "language_info": {
   "codemirror_mode": {
    "name": "ipython",
    "version": 3
   },
   "file_extension": ".py",
   "mimetype": "text/x-python",
   "name": "python",
   "nbconvert_exporter": "python",
   "pygments_lexer": "ipython3",
   "version": "3.7.6"
  }
 },
 "nbformat": 4,
 "nbformat_minor": 4
}
