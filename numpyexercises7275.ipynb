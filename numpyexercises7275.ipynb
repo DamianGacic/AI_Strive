{
 "cells": [
  {
   "cell_type": "code",
   "execution_count": 2,
   "metadata": {
    "slideshow": {
     "slide_type": "slide"
    }
   },
   "outputs": [],
   "source": [
    "# Import the needed libraries\n",
    "import numpy as np"
   ]
  },
  {
   "cell_type": "markdown",
   "metadata": {},
   "source": [
    "**72. How to swap two rows of an array?** "
   ]
  },
  {
   "cell_type": "code",
   "execution_count": 3,
   "metadata": {},
   "outputs": [
    {
     "name": "stdout",
     "output_type": "stream",
     "text": [
      "[[0.10219188 0.23031626 0.95202663 0.49298697]\n",
      " [0.42526613 0.24224959 0.91734068 0.51667002]\n",
      " [0.42496694 0.80620643 0.73060232 0.15509861]]\n",
      "[[0.42496694 0.80620643 0.73060232 0.15509861]\n",
      " [0.42526613 0.24224959 0.91734068 0.51667002]\n",
      " [0.10219188 0.23031626 0.95202663 0.49298697]]\n"
     ]
    }
   ],
   "source": [
    "a = np.random.rand(3,4)\n",
    "print(a)\n",
    "a[[0, 2]] = a[[2, 0]]\n",
    "print(a)"
   ]
  },
  {
   "cell_type": "markdown",
   "metadata": {},
   "source": [
    "**75. How to compute averages using a sliding window over an array?**"
   ]
  },
  {
   "cell_type": "code",
   "execution_count": 7,
   "metadata": {},
   "outputs": [
    {
     "name": "stdout",
     "output_type": "stream",
     "text": [
      "[ 0  1  2  3  4  5  6  7  8  9 10 11 12 13 14 15 16 17 18 19 20 21 22 23\n",
      " 24 25 26 27 28 29]\n"
     ]
    },
    {
     "data": {
      "text/plain": [
       "array([ 1.,  2.,  3.,  4.,  5.,  6.,  7.,  8.,  9., 10., 11., 12., 13.,\n",
       "       14., 15., 16., 17., 18., 19., 20., 21., 22., 23., 24., 25., 26.,\n",
       "       27., 28.])"
      ]
     },
     "execution_count": 7,
     "metadata": {},
     "output_type": "execute_result"
    }
   ],
   "source": [
    "def moving_average ( a , n):\n",
    "    test = np.cumsum(a, dtype =float)\n",
    "    test[n:] = test[n:]- test[:-n]\n",
    "    return test[n - 1:] /n\n",
    "array = np.arange(30)\n",
    "print(array)\n",
    "moving_average(array,3)"
   ]
  }
 ],
 "metadata": {
  "kernelspec": {
   "display_name": "Python 3",
   "language": "python",
   "name": "python3"
  },
  "language_info": {
   "codemirror_mode": {
    "name": "ipython",
    "version": 3
   },
   "file_extension": ".py",
   "mimetype": "text/x-python",
   "name": "python",
   "nbconvert_exporter": "python",
   "pygments_lexer": "ipython3",
   "version": "3.7.6"
  }
 },
 "nbformat": 4,
 "nbformat_minor": 5
}
