{
 "cells": [
  {
   "cell_type": "code",
   "execution_count": 11,
   "source": [
    "# NLP Lecture @ Strive School - 21st July 2021\r\n",
    "# CHATBOT with Pytorch\r\n",
    "\r\n",
    "'''\r\n",
    "Chatbots are essential for speeding up user assistance and reducing waiting times. Chatbots can quickly extract important information such as demographics, symptoms, health insurance information and assist any patients by making appointments with specialists.\r\n",
    "\r\n",
    "Imagine having to design a tool that allows preliminary assistance for those who must access a treatment path or must make a reservation for a specialist visit.\r\n",
    "\r\n",
    "Create a dataset using the template provided as a base and prepare at least 5 different intents with 4/5 responses each.\r\n",
    "\r\n",
    "The final result must ensure that users can have a dialogue of at least 3 questions and 3 answers consistent with the context.\r\n",
    "\r\n",
    "Example\r\n",
    "A: Hello MedAssistant.\r\n",
    "B: Hello. How can I help you?\r\n",
    "A: I don't feel well.\r\n",
    "B: Do you have any symptoms?\r\n",
    "A: I have cough and nausea.\r\n",
    "B: Do you want to book an appointment?\r\n",
    "A: Yes, please, for tomorrow.\r\n",
    "\r\n",
    "\r\n",
    "Info:\r\n",
    "- Feel free to change or arrange a new dataset of intents\r\n",
    "- Try experimenting and tuning with the hyperparameters\r\n",
    "- Feel free to use or change the code you've seen during the morning session\r\n",
    "- TBD = To be done (from you!) :)\r\n",
    "'''"
   ],
   "outputs": [
    {
     "output_type": "execute_result",
     "data": {
      "text/plain": [
       "\"\\nChatbots are essential for speeding up user assistance and reducing waiting times. Chatbots can quickly extract important information such as demographics, symptoms, health insurance information and assist any patients by making appointments with specialists.\\n\\nImagine having to design a tool that allows preliminary assistance for those who must access a treatment path or must make a reservation for a specialist visit.\\n\\nCreate a dataset using the template provided as a base and prepare at least 5 different intents with 4/5 responses each.\\n\\nThe final result must ensure that users can have a dialogue of at least 3 questions and 3 answers consistent with the context.\\n\\nExample\\nA: Hello MedAssistant.\\nB: Hello. How can I help you?\\nA: I don't feel well.\\nB: Do you have any symptoms?\\nA: I have cough and nausea.\\nB: Do you want to book an appointment?\\nA: Yes, please, for tomorrow.\\n\\n\\nInfo:\\n- Feel free to change or arrange a new dataset of intents\\n- Try experimenting and tuning with the hyperparameters\\n- Feel free to use or change the code you've seen during the morning session\\n- TBD = To be done (from you!) :)\\n\""
      ]
     },
     "metadata": {},
     "execution_count": 11
    }
   ],
   "metadata": {}
  },
  {
   "cell_type": "code",
   "execution_count": 4,
   "source": [
    "import numpy as np\r\n",
    "import json\r\n",
    "\r\n",
    "import torch\r\n",
    "import torch.nn as nn\r\n",
    "from torch.utils.data import Dataset, DataLoader\r\n",
    "\r\n",
    "from nltk_utils import bag_of_words, tokenize, stem\r\n",
    "from model import NeuralNet\r\n"
   ],
   "outputs": [],
   "metadata": {}
  },
  {
   "cell_type": "code",
   "execution_count": 5,
   "source": [
    "import numpy as np\r\n",
    "import nltk\r\n",
    "# nltk.download('punkt')\r\n",
    "from nltk.stem.porter import PorterStemmer"
   ],
   "outputs": [],
   "metadata": {}
  },
  {
   "cell_type": "code",
   "execution_count": 6,
   "source": [
    "import numpy as np\r\n",
    "import json\r\n",
    "\r\n",
    "import torch\r\n",
    "import torch.nn as nn\r\n",
    "from torch.utils.data import Dataset, DataLoader\r\n",
    "\r\n",
    "from nltk_utils import bag_of_words, tokenize, stem\r\n",
    "from model import NeuralNet\r\n",
    "\r\n",
    "# STEP 0: find intents patterns\r\n",
    "\r\n",
    "with open('intents.json', 'r') as f:\r\n",
    "    intents = json.load(f)\r\n",
    "\r\n",
    "all_words = []\r\n",
    "tags = []\r\n",
    "patterns = []\r\n",
    "\r\n",
    "for intent in intents['intents']:\r\n",
    "    tag = intent['tag']\r\n",
    "    tags.append(tag)\r\n",
    "    for pattern in intent['patterns']:\r\n",
    "        w = tokenize(pattern)\r\n",
    "        all_words.extend(w)\r\n",
    "        patterns.append((w, tag))\r\n",
    "\r\n"
   ],
   "outputs": [],
   "metadata": {}
  },
  {
   "cell_type": "code",
   "execution_count": 7,
   "source": [
    "# STEP 1: Pre-process of the input\r\n",
    "\r\n",
    "# lower case? stemming? stopwords?\r\n",
    "# TBD\r\n",
    "\r\n",
    "\r\n",
    "ignore_words = ['?', '!', '.']\r\n",
    "all_words = [stem(w) for w in all_words if w not in ignore_words]\r\n",
    "all_words = sorted(set(all_words))\r\n",
    "tags = sorted(set(tags))\r\n",
    "\r\n",
    "print(len(patterns), \"patterns\")\r\n",
    "print(len(tags), \"tags\")\r\n",
    "print(len(all_words), \"unique stemmed words\")"
   ],
   "outputs": [
    {
     "output_type": "stream",
     "name": "stdout",
     "text": [
      "41 patterns\n",
      "8 tags\n",
      "89 unique stemmed words\n"
     ]
    }
   ],
   "metadata": {}
  },
  {
   "cell_type": "code",
   "execution_count": 8,
   "source": [
    "# STEP 2: Define training data through a bag of words\r\n",
    "\r\n",
    "X_train = []\r\n",
    "y_train = []\r\n",
    "for (pattern_sentence, tag) in patterns:\r\n",
    "    bag = bag_of_words(pattern_sentence, all_words)\r\n",
    "    X_train.append(bag)\r\n",
    "    label = tags.index(tag)\r\n",
    "    y_train.append(label)\r\n",
    "\r\n",
    "X_train = np.array(X_train)\r\n",
    "y_train = np.array(y_train)"
   ],
   "outputs": [],
   "metadata": {}
  },
  {
   "cell_type": "code",
   "execution_count": 9,
   "source": [
    "# STEP 3: Configure the neural network\r\n",
    "\r\n",
    "# define each parameter that is equal to 0 using an empirical value or a value based on your experience\r\n",
    "# TBD\r\n",
    "\r\n",
    "num_epochs = 1000\r\n",
    "batch_size = 8\r\n",
    "learning_rate = 0.001\r\n",
    "input_size = len(X_train[0])\r\n",
    "hidden_size = 8\r\n",
    "output_size = len(tags)\r\n",
    "\r\n",
    "# STEP 4: Train the model\r\n",
    "\r\n",
    "class ChatDataset(Dataset):\r\n",
    "\r\n",
    "    def __init__(self):\r\n",
    "        self.n_samples = len(X_train)\r\n",
    "        self.x_data = X_train\r\n",
    "        self.y_data = y_train\r\n",
    "\r\n",
    "    # support indexing such that dataset[i] can be used to get i-th sample\r\n",
    "    def __getitem__(self, index):\r\n",
    "        return self.x_data[index], self.y_data[index]\r\n",
    "\r\n",
    "    # we can call len(dataset) to return the size\r\n",
    "    def __len__(self):\r\n",
    "        return self.n_samples\r\n",
    "\r\n",
    "\r\n",
    "dataset = ChatDataset()\r\n",
    "train_loader = DataLoader(dataset=dataset,\r\n",
    "                          batch_size=batch_size,\r\n",
    "                          shuffle=True,\r\n",
    "                          num_workers=0)\r\n",
    "\r\n",
    "device = torch.device('cuda' if torch.cuda.is_available() else 'cpu')\r\n",
    "\r\n",
    "model = NeuralNet(input_size, hidden_size, output_size).to(device)\r\n",
    "\r\n",
    "# Define loss and optimizer: which one is the best one?\r\n",
    "# TBD\r\n",
    "criterion = nn.CrossEntropyLoss()\r\n",
    "optimizer = torch.optim.Adam(model.parameters(), lr=learning_rate)\r\n",
    "\r\n",
    "# Train the model\r\n"
   ],
   "outputs": [],
   "metadata": {}
  },
  {
   "cell_type": "code",
   "execution_count": 10,
   "source": [
    "for epoch in range(num_epochs):\r\n",
    "    for (words, labels) in train_loader:\r\n",
    "        words = words.to(device)\r\n",
    "        labels = labels.to(dtype=torch.long).to(device)\r\n",
    "\r\n",
    "        # Forward pass\r\n",
    "        outputs = model(words)\r\n",
    "        # if y would be one-hot, we must apply\r\n",
    "        # labels = torch.max(labels, 1)[1]\r\n",
    "        loss = criterion(outputs, labels)\r\n",
    "\r\n",
    "        # Backward and optimize\r\n",
    "        optimizer.zero_grad()\r\n",
    "        loss.backward()\r\n",
    "        optimizer.step()\r\n",
    "    if(epoch+1) % 100 == 0:\r\n",
    "        print(f'Epoch [{epoch+1}/{num_epochs}], Loss: {loss.item():.4f}')\r\n",
    "\r\n",
    "data = {\r\n",
    "    \"model_state\": model.state_dict(),\r\n",
    "    \"input_size\": input_size,\r\n",
    "    \"hidden_size\": hidden_size,\r\n",
    "    \"output_size\": output_size,\r\n",
    "    \"all_words\": all_words,\r\n",
    "    \"tags\": tags\r\n",
    "}"
   ],
   "outputs": [
    {
     "output_type": "stream",
     "name": "stdout",
     "text": [
      "Epoch [100/1000], Loss: 0.5667\n",
      "Epoch [200/1000], Loss: 0.0208\n",
      "Epoch [300/1000], Loss: 0.0003\n",
      "Epoch [400/1000], Loss: 0.0001\n",
      "Epoch [500/1000], Loss: 0.0010\n",
      "Epoch [600/1000], Loss: 0.0003\n",
      "Epoch [700/1000], Loss: 0.0009\n",
      "Epoch [800/1000], Loss: 0.0032\n",
      "Epoch [900/1000], Loss: 0.0000\n",
      "Epoch [1000/1000], Loss: 0.0011\n"
     ]
    }
   ],
   "metadata": {}
  },
  {
   "cell_type": "code",
   "execution_count": 11,
   "source": [
    "# STEP 5: Save the model\r\n",
    "\r\n",
    "# TBD: name and save the model\r\n",
    "file = \"trained.pth\"\r\n",
    "torch.save(data, file)\r\n",
    "\r\n",
    "print(f'training complete. file saved!')\r\n"
   ],
   "outputs": [
    {
     "output_type": "stream",
     "name": "stdout",
     "text": [
      "training complete. file saved!\n"
     ]
    }
   ],
   "metadata": {}
  },
  {
   "cell_type": "code",
   "execution_count": 13,
   "source": [
    "\r\n",
    "import random\r\n",
    "import numpy as np\r\n",
    "import json\r\n",
    "\r\n",
    "\r\n",
    "device = torch.device('cuda' if torch.cuda.is_available() else 'cpu')\r\n",
    "\r\n",
    "# STEP 6: Test the model\r\n",
    "with open('intents.json', 'r') as f:\r\n",
    "    intents = json.load(f)\r\n",
    "\r\n",
    "all_words = []\r\n",
    "tags = []\r\n",
    "patterns = []\r\n",
    "\r\n",
    "for intent in intents['intents']:\r\n",
    "    tag = intent['tag']\r\n",
    "    tags.append(tag)\r\n",
    "    for pattern in intent['patterns']:\r\n",
    "        w = tokenize(pattern)\r\n",
    "        all_words.extend(w)\r\n",
    "        patterns.append((w, tag))\r\n",
    "\r\n",
    "\r\n",
    "\r\n",
    "ignore_words = ['?', '!', '.']\r\n",
    "all_words = [stem(w) for w in all_words if w not in ignore_words]\r\n",
    "all_words = sorted(set(all_words))\r\n",
    "tags = sorted(set(tags))\r\n",
    "\r\n",
    "\r\n",
    "# TBD: Load the intents file\r\n",
    "with open('intents.json', 'r') as f:\r\n",
    "    intents = json.load(f)\r\n",
    "\r\n",
    "# TBD: Retrieve the model and all the sizings\r\n",
    "\r\n",
    "# TBD: build the NN\r\n",
    "data = torch.load(\"trained.pth\")\r\n",
    "\r\n",
    "input_size = data[\"input_size\"]\r\n",
    "hidden_size = data[\"hidden_size\"]\r\n",
    "output_size = data[\"output_size\"]\r\n",
    "all_words = data['all_words']\r\n",
    "tags = data['tags']\r\n",
    "model_state = data[\"model_state\"]\r\n",
    "\r\n",
    "model = NeuralNet(input_size, hidden_size, output_size).to(device)\r\n",
    "model.load_state_dict(model_state)\r\n",
    "model.eval()\r\n",
    "\r\n",
    "# TBD: prepare a command-line conversation (don't forget something to make the user exit the script!)\r\n",
    "botname = 'siri'\r\n",
    "print('lets chat')\r\n",
    "\r\n",
    "while True:\r\n",
    "    sentence = input('you : ')\r\n",
    "    if sentence == \"exit\":\r\n",
    "        print(\"thanks for joining me!\")\r\n",
    "        break\r\n",
    "    else:\r\n",
    "        print('you: ' + sentence)\r\n",
    "    \r\n",
    "    sentence = tokenize(sentence)\r\n",
    "    X = bag_of_words(sentence, all_words)\r\n",
    "    X = X.reshape(1, X.shape[0])\r\n",
    "    X = torch.from_numpy(X).to(device)\r\n",
    "\r\n",
    "    output = model(X)\r\n",
    "\r\n",
    "    _, predicted = torch.max(output, dim=1)\r\n",
    "\r\n",
    "    tag = tags[predicted.item()]\r\n",
    "    probs =torch.softmax(output, dim =1)\r\n",
    "    prob = probs[0][predicted.item()]\r\n",
    "    #print(prob)\r\n",
    "    if prob.item() > 0.75:\r\n",
    "        for intent in intents['intents']:\r\n",
    "            if tag == intent['tag']:\r\n",
    "                print(f\"{botname}: {random.choice(intent['responses'])}\")\r\n",
    "    else:\r\n",
    "                print(f\"{botname}: i do not understand. try to be more specific pls\")"
   ],
   "outputs": [
    {
     "output_type": "stream",
     "name": "stdout",
     "text": [
      "lets chat\n",
      "you: hey\n",
      "siri: Hello, thanks for visiting\n",
      "you: whats up\n",
      "siri: May we offer you a slice of hot pizza?\n",
      "thanks for joining me!\n"
     ]
    }
   ],
   "metadata": {}
  }
 ],
 "metadata": {
  "kernelspec": {
   "name": "python3",
   "display_name": "Python 3.8.11 64-bit ('mlmodule': conda)"
  },
  "language_info": {
   "codemirror_mode": {
    "name": "ipython",
    "version": 3
   },
   "file_extension": ".py",
   "mimetype": "text/x-python",
   "name": "python",
   "nbconvert_exporter": "python",
   "pygments_lexer": "ipython3",
   "version": "3.8.11"
  },
  "interpreter": {
   "hash": "912c69523b93010c508701d0af843ce23b6d6e756d92e93831f5fe5f47ff0e42"
  }
 },
 "nbformat": 4,
 "nbformat_minor": 2
}